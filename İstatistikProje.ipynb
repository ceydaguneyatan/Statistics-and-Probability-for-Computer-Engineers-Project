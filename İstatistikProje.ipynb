{
 "cells": [
  {
   "cell_type": "markdown",
   "id": "87d718dd-b459-46af-ba34-4709a78dc826",
   "metadata": {},
   "source": [
    "#### ID: 2221221008\n",
    "#### Name Surname: Ceyda GÜNEYATAN\n",
    "#### Course: Statistics and Probability for Computer Engineers\n",
    "#### Lecturer: Dr. Sultan ZEYBEK\n",
    "#### Date: 15.06.2025\n",
    "#### STATISTICS AND PROBABILITY PROJECT"
   ]
  },
  {
   "cell_type": "code",
   "execution_count": 1,
   "id": "895fa09f-c3a0-4cc5-99d5-25cbf3351d18",
   "metadata": {},
   "outputs": [],
   "source": [
    "# Import required libraries\n",
    "import pandas as pd\n",
    "import numpy as np\n",
    "import matplotlib.pyplot as plt\n",
    "import seaborn as sns\n",
    "from scipy import stats"
   ]
  },
  {
   "cell_type": "code",
   "execution_count": 2,
   "id": "5cbc6cfa-d03d-4fc3-952f-465944ff90e4",
   "metadata": {},
   "outputs": [
    {
     "name": "stdout",
     "output_type": "stream",
     "text": [
      "\n",
      "The First 5 Rows of the Dataset:\n"
     ]
    },
    {
     "data": {
      "text/html": [
       "<div>\n",
       "<style scoped>\n",
       "    .dataframe tbody tr th:only-of-type {\n",
       "        vertical-align: middle;\n",
       "    }\n",
       "\n",
       "    .dataframe tbody tr th {\n",
       "        vertical-align: top;\n",
       "    }\n",
       "\n",
       "    .dataframe thead th {\n",
       "        text-align: right;\n",
       "    }\n",
       "</style>\n",
       "<table border=\"1\" class=\"dataframe\">\n",
       "  <thead>\n",
       "    <tr style=\"text-align: right;\">\n",
       "      <th></th>\n",
       "      <th>Entity</th>\n",
       "      <th>Code</th>\n",
       "      <th>Year</th>\n",
       "      <th>Global Hunger Index (2021)</th>\n",
       "      <th>411773-annotations</th>\n",
       "    </tr>\n",
       "  </thead>\n",
       "  <tbody>\n",
       "    <tr>\n",
       "      <th>0</th>\n",
       "      <td>Afghanistan</td>\n",
       "      <td>AFG</td>\n",
       "      <td>2000</td>\n",
       "      <td>50.9</td>\n",
       "      <td>NaN</td>\n",
       "    </tr>\n",
       "    <tr>\n",
       "      <th>1</th>\n",
       "      <td>Afghanistan</td>\n",
       "      <td>AFG</td>\n",
       "      <td>2006</td>\n",
       "      <td>42.7</td>\n",
       "      <td>NaN</td>\n",
       "    </tr>\n",
       "    <tr>\n",
       "      <th>2</th>\n",
       "      <td>Afghanistan</td>\n",
       "      <td>AFG</td>\n",
       "      <td>2012</td>\n",
       "      <td>34.3</td>\n",
       "      <td>NaN</td>\n",
       "    </tr>\n",
       "    <tr>\n",
       "      <th>3</th>\n",
       "      <td>Afghanistan</td>\n",
       "      <td>AFG</td>\n",
       "      <td>2021</td>\n",
       "      <td>28.3</td>\n",
       "      <td>NaN</td>\n",
       "    </tr>\n",
       "    <tr>\n",
       "      <th>4</th>\n",
       "      <td>Albania</td>\n",
       "      <td>ALB</td>\n",
       "      <td>2000</td>\n",
       "      <td>20.7</td>\n",
       "      <td>NaN</td>\n",
       "    </tr>\n",
       "  </tbody>\n",
       "</table>\n",
       "</div>"
      ],
      "text/plain": [
       "        Entity Code  Year  Global Hunger Index (2021) 411773-annotations\n",
       "0  Afghanistan  AFG  2000                        50.9                NaN\n",
       "1  Afghanistan  AFG  2006                        42.7                NaN\n",
       "2  Afghanistan  AFG  2012                        34.3                NaN\n",
       "3  Afghanistan  AFG  2021                        28.3                NaN\n",
       "4      Albania  ALB  2000                        20.7                NaN"
      ]
     },
     "execution_count": 2,
     "metadata": {},
     "output_type": "execute_result"
    }
   ],
   "source": [
    "# The file path for the dataset is defined.\n",
    "file_path = 'global-hunger-index.csv'\n",
    "\n",
    "# The data is loaded from the specified CSV file into a pandas DataFrame.\n",
    "data = pd.read_csv(file_path)\n",
    "\n",
    "# To understand the structure of the dataset, the first five rows are examined.\n",
    "print(\"\\nThe First 5 Rows of the Dataset:\")\n",
    "data.head()"
   ]
  },
  {
   "cell_type": "code",
   "execution_count": 5,
   "id": "1e6e884e-5cd0-4bf3-82d0-497f0fca740d",
   "metadata": {},
   "outputs": [
    {
     "data": {
      "text/plain": [
       "0    50.9\n",
       "1    42.7\n",
       "2    34.3\n",
       "3    28.3\n",
       "4    20.7\n",
       "Name: Global Hunger Index (2021), dtype: float64"
      ]
     },
     "execution_count": 5,
     "metadata": {},
     "output_type": "execute_result"
    }
   ],
   "source": [
    "# To focus the analysis, the \"Global Hunger Index (2021)\" column is selected from the dataset.\n",
    "hunger_index_data = data[\"Global Hunger Index (2021)\"]\n",
    "\n",
    "# The first five entries of this new data series are displayed to verify the selection.\n",
    "hunger_index_data.head()"
   ]
  },
  {
   "cell_type": "code",
   "execution_count": 7,
   "id": "2ea72b23-6356-4262-9745-6fa234add931",
   "metadata": {},
   "outputs": [
    {
     "data": {
      "text/plain": [
       "count    471.000000\n",
       "mean      19.824628\n",
       "std       13.449570\n",
       "min        2.500000\n",
       "25%        8.800000\n",
       "50%       17.000000\n",
       "75%       28.550000\n",
       "max       65.100000\n",
       "Name: Global Hunger Index (2021), dtype: float64"
      ]
     },
     "execution_count": 7,
     "metadata": {},
     "output_type": "execute_result"
    }
   ],
   "source": [
    "# To understand the statistical distribution of the hunger index data,\n",
    "# key summary statistics such as the mean, median, and standard deviation are calculated.\n",
    "hunger_index_data.describe()"
   ]
  },
  {
   "cell_type": "code",
   "execution_count": 9,
   "id": "a8e351de-c2a8-499d-85d3-54a9e2d8bcd6",
   "metadata": {},
   "outputs": [
    {
     "data": {
      "text/plain": [
       "19.82462845010616"
      ]
     },
     "execution_count": 9,
     "metadata": {},
     "output_type": "execute_result"
    }
   ],
   "source": [
    "# The arithmetic average of the data points.\n",
    "mean_value = hunger_index_data.mean()\n",
    "mean_value"
   ]
  },
  {
   "cell_type": "code",
   "execution_count": 11,
   "id": "9af24741-96ec-44c3-96fd-20e62afb51ee",
   "metadata": {},
   "outputs": [
    {
     "data": {
      "text/plain": [
       "17.0"
      ]
     },
     "execution_count": 11,
     "metadata": {},
     "output_type": "execute_result"
    }
   ],
   "source": [
    "# The middle value that separates the higher half from the lower half of the data.\n",
    "median_value = hunger_index_data.median()\n",
    "median_value"
   ]
  },
  {
   "cell_type": "code",
   "execution_count": 13,
   "id": "9a5dd8d4-ee21-4eac-a679-7a81f8f71c65",
   "metadata": {},
   "outputs": [
    {
     "data": {
      "text/plain": [
       "180.89092406378455"
      ]
     },
     "execution_count": 13,
     "metadata": {},
     "output_type": "execute_result"
    }
   ],
   "source": [
    "# A measure of data dispersion, representing the average squared deviation from the mean.\n",
    "variance_value = hunger_index_data.var()\n",
    "variance_value"
   ]
  },
  {
   "cell_type": "code",
   "execution_count": 15,
   "id": "add2476a-8801-435d-b501-490bfe388dfb",
   "metadata": {},
   "outputs": [
    {
     "data": {
      "text/plain": [
       "13.449569660914232"
      ]
     },
     "execution_count": 15,
     "metadata": {},
     "output_type": "execute_result"
    }
   ],
   "source": [
    "# The square root of the variance, indicating the amount of variation or spread in the data.\n",
    "std_dev_value = hunger_index_data.std()\n",
    "std_dev_value"
   ]
  },
  {
   "cell_type": "code",
   "execution_count": 17,
   "id": "0ba64be3-8128-4444-a739-863088a8afa4",
   "metadata": {},
   "outputs": [
    {
     "data": {
      "text/plain": [
       "0.6197234573722193"
      ]
     },
     "execution_count": 17,
     "metadata": {},
     "output_type": "execute_result"
    }
   ],
   "source": [
    "# An estimate of how much the sample mean is likely to differ from the true population mean.\n",
    "standard_error_value = std_dev_value / np.sqrt(len(hunger_index_data)) \n",
    "standard_error_value"
   ]
  },
  {
   "cell_type": "code",
   "execution_count": 19,
   "id": "c1e2fdb2-7af3-473d-b861-01d5f81f2a1e",
   "metadata": {},
   "outputs": [
    {
     "name": "stdout",
     "output_type": "stream",
     "text": [
      "\n",
      "--- SECTION 5: DATA VISUALIZATION ---\n"
     ]
    },
    {
     "data": {
      "image/png": "[encoded data removed]",
      "text/plain": [
       "<Figure size 1200x500 with 2 Axes>"
      ]
     },
     "metadata": {},
     "output_type": "display_data"
    },
    {
     "name": "stdout",
     "output_type": "stream",
     "text": [
      "\n",
      " Statistical Summary:\n",
      "Mean: 19.82\n",
      "Median: 17.00\n",
      "Minimum: 2.50\n",
      "Maximum: 65.10\n",
      "1st Quartile (Q1): 8.80\n",
      "3rd Quartile (Q3): 28.55\n",
      "IQR (Q3 - Q1): 19.75\n",
      "\n",
      "Outlier Analysis:\n",
      "Values below the lower bound (< -20.82): 0 count. Examples: []\n",
      "Values above the upper bound (> 58.17): 2 count. Examples: [65.0, 65.1]\n"
     ]
    }
   ],
   "source": [
    "# --- SECTION 5: DATA VISUALIZATION ---\n",
    "print(\"\\n--- SECTION 5: DATA VISUALIZATION ---\")\n",
    "\n",
    "# The figure size and visual style are configured for the plots.\n",
    "plt.figure(figsize=(12, 5))\n",
    "sns.set_style(\"whitegrid\")\n",
    "\n",
    "# The first subplot is created to display the histogram.\n",
    "# A histogram is generated to visualize the shape of the data distribution.\n",
    "# A Kernel Density Estimate (KDE) is overlaid for a smoother representation of the distribution.\n",
    "plt.subplot(1, 2, 1)\n",
    "sns.histplot(hunger_index_data, kde=True, bins=25)\n",
    "plt.title('Distribution of GHI Scores (Histogram)')\n",
    "plt.xlabel('GHI Score')\n",
    "plt.ylabel('Frequency')\n",
    "\n",
    "# The second subplot is created to display the boxplot.\n",
    "# A boxplot is used to identify the data's central tendency, spread, and potential outliers.\n",
    "plt.subplot(1, 2, 2)\n",
    "sns.boxplot(y=hunger_index_data, color='lightgreen')\n",
    "plt.title('Boxplot of GHI Scores')\n",
    "plt.ylabel('GHI Score')\n",
    "\n",
    "# The layout is adjusted to ensure titles and labels do not overlap.\n",
    "plt.tight_layout()\n",
    "# The generated plots are displayed.\n",
    "plt.show()\n",
    "\n",
    "# --- Statistical Summary for Outlier Detection ---\n",
    "# The first (Q1) and third (Q3) quartiles are calculated to determine the interquartile range (IQR).\n",
    "Q1 = hunger_index_data.quantile(0.25)\n",
    "Q3 = hunger_index_data.quantile(0.75)\n",
    "IQR = Q3 - Q1\n",
    "\n",
    "# The lower and upper bounds for outlier detection are defined using the 1.5 * IQR rule.\n",
    "lower_whisker = Q1 - 1.5 * IQR\n",
    "upper_whisker = Q3 + 1.5 * IQR\n",
    "\n",
    "# Data points falling outside these bounds are identified as potential outliers.\n",
    "outliers_lower = hunger_index_data[hunger_index_data < lower_whisker]\n",
    "outliers_upper = hunger_index_data[hunger_index_data > upper_whisker]\n",
    "\n",
    "# The calculated statistics and outlier information are printed for review.\n",
    "print(f\"\\n Statistical Summary:\")\n",
    "print(f\"Mean: {mean_value:.2f}\")\n",
    "print(f\"Median: {median_value:.2f}\")\n",
    "print(f\"Minimum: {hunger_index_data.min():.2f}\")\n",
    "print(f\"Maximum: {hunger_index_data.max():.2f}\")\n",
    "print(f\"1st Quartile (Q1): {Q1:.2f}\")\n",
    "print(f\"3rd Quartile (Q3): {Q3:.2f}\")\n",
    "print(f\"IQR (Q3 - Q1): {IQR:.2f}\")\n",
    "print(f\"\\nOutlier Analysis:\")\n",
    "print(f\"Values below the lower bound (< {lower_whisker:.2f}): {len(outliers_lower)} count. Examples: {list(outliers_lower.unique()[:5])}\")\n",
    "print(f\"Values above the upper bound (> {upper_whisker:.2f}): {len(outliers_upper)} count. Examples: {list(outliers_upper.unique()[:5])}\")"
   ]
  },
  {
   "cell_type": "code",
   "execution_count": 21,
   "id": "5d1cb691-e40f-4d07-96b7-540c422a0267",
   "metadata": {},
   "outputs": [
    {
     "name": "stdout",
     "output_type": "stream",
     "text": [
      "--- SECTION 6: CONFIDENCE INTERVALS ---\n",
      "\n",
      " 1. 95% Confidence Interval for the Population Mean\n",
      "--------------------------------------------------\n",
      "Assumptions:\n",
      "1. Random Sample: It is assumed that the data constitutes a random sample from the target population.\n",
      "2. Normality or Large Sample: Ideally, the population data would be normally distributed. However, according to the Central Limit Theorem,\n",
      "   for a sufficiently large sample size (n=471 > 30), the sampling distribution of the mean will approximate a normal distribution.\n",
      "   Therefore, this interval can be reliably calculated even if the underlying population distribution is not normal.\n",
      "\n",
      "Result:\n",
      "The 95% confidence interval for the population mean of GHI scores is: [18.61, 21.04]\n",
      "\n",
      "Interpretation:\n",
      "Based on this sample, we are 95% confident that the true population mean of the GHI score\n",
      "for all countries lies between 18.61 and 21.04.\n",
      "\n",
      "\n",
      " 2. 95% Confidence Interval for Population Variance and Standard Deviation\n",
      "----------------------------------------------------------------------\n",
      "Assumptions:\n",
      "1. Random Sample: It is assumed that the data is a random sample.\n",
      "2. Normality (Critical Assumption): The validity of this interval is strongly dependent on the assumption that the underlying population is normally distributed.\n",
      "\n",
      "   Normality Test (Shapiro-Wilk) Result:\n",
      "   P-value = 0.0000\n",
      "   Since the p-value is less than 0.05, the null hypothesis of normality is rejected. The right-skewed distribution observed in the histogram supports this finding.\n",
      "   Therefore, the accuracy of the variance interval calculated below is questionable and must be interpreted with caution.\n",
      "\n",
      "Results:\n",
      "The 95% confidence interval for the population variance (σ²) is:   [159.82, 206.44]\n",
      "The 95% confidence interval for the population standard deviation (σ) is: [12.64, 14.37]\n",
      "\n",
      "Interpretation:\n",
      "If the data were normally distributed, we would conclude with 95% confidence that the population variance\n",
      "(the squared spread of GHI scores around the mean) is between 159.82 and 206.44.\n",
      "More intuitively, the population standard deviation (the typical deviation of scores from the mean) would be estimated\n",
      "to be between 12.64 and 14.37 with 95% confidence. However, because the normality assumption is violated, these intervals should be viewed as approximations.\n"
     ]
    }
   ],
   "source": [
    "# --- SECTION 6: CONFIDENCE INTERVALS ---\n",
    "print(\"--- SECTION 6: CONFIDENCE INTERVALS ---\")\n",
    "\n",
    "# The confidence level for the intervals is set to 95%.\n",
    "confidence_level = 0.95\n",
    "\n",
    "# --- 6.1: 95% Confidence Interval for the Population Mean (μ) ---\n",
    "\n",
    "# Required statistics for the calculation are gathered.\n",
    "n = len(hunger_index_data)\n",
    "df = n - 1  # Degrees of freedom\n",
    "mean_val = hunger_index_data.mean()\n",
    "std_err = stats.sem(hunger_index_data) # Standard error of the mean\n",
    "\n",
    "# The confidence interval is calculated using the t-distribution.\n",
    "# Although the z-distribution could be an alternative due to the large sample size (n > 30),\n",
    "# the t-distribution provides a more general approach suitable for both small and large samples.\n",
    "mean_ci = stats.t.interval(confidence_level, df, loc=mean_val, scale=std_err)\n",
    "\n",
    "print(\"\\n 1. 95% Confidence Interval for the Population Mean\")\n",
    "print(\"-\" * 50)\n",
    "print(\"Assumptions:\")\n",
    "print(\"1. Random Sample: It is assumed that the data constitutes a random sample from the target population.\")\n",
    "print(\"2. Normality or Large Sample: Ideally, the population data would be normally distributed. However, according to the Central Limit Theorem,\")\n",
    "print(f\"   for a sufficiently large sample size (n={n} > 30), the sampling distribution of the mean will approximate a normal distribution.\")\n",
    "print(\"   Therefore, this interval can be reliably calculated even if the underlying population distribution is not normal.\")\n",
    "print(\"\\nResult:\")\n",
    "print(f\"The 95% confidence interval for the population mean of GHI scores is: [{mean_ci[0]:.2f}, {mean_ci[1]:.2f}]\")\n",
    "print(\"\\nInterpretation:\")\n",
    "print(\"Based on this sample, we are 95% confident that the true population mean of the GHI score\")\n",
    "print(f\"for all countries lies between {mean_ci[0]:.2f} and {mean_ci[1]:.2f}.\")\n",
    "\n",
    "\n",
    "# --- 6.2: 95% Confidence Interval for the Population Variance (σ²) ---\n",
    "\n",
    "# The confidence interval for the variance is highly sensitive to the assumption that the data is normally distributed.\n",
    "# To check this assumption, a Shapiro-Wilk normality test is performed.\n",
    "shapiro_test_stat, shapiro_p_value = stats.shapiro(hunger_index_data)\n",
    "\n",
    "# The confidence interval is calculated using the Chi-Square distribution.\n",
    "sample_var = hunger_index_data.var()\n",
    "alpha = 1 - confidence_level\n",
    "\n",
    "# Chi-Square critical values are determined.\n",
    "chi2_lower_critical = stats.chi2.ppf(alpha / 2, df)\n",
    "chi2_upper_critical = stats.chi2.ppf(1 - alpha / 2, df)\n",
    "\n",
    "# The confidence interval for the variance is computed.\n",
    "variance_ci_lower = (df * sample_var) / chi2_upper_critical\n",
    "variance_ci_upper = (df * sample_var) / chi2_lower_critical\n",
    "\n",
    "# The confidence interval for the standard deviation is derived by taking the square root of the variance interval.\n",
    "std_dev_ci = (np.sqrt(variance_ci_lower), np.sqrt(variance_ci_upper))\n",
    "\n",
    "\n",
    "print(\"\\n\\n 2. 95% Confidence Interval for Population Variance and Standard Deviation\")\n",
    "print(\"-\" * 70)\n",
    "print(\"Assumptions:\")\n",
    "print(\"1. Random Sample: It is assumed that the data is a random sample.\")\n",
    "print(\"2. Normality (Critical Assumption): The validity of this interval is strongly dependent on the assumption that the underlying population is normally distributed.\")\n",
    "print(f\"\\n   Normality Test (Shapiro-Wilk) Result:\")\n",
    "print(f\"   P-value = {shapiro_p_value:.4f}\")\n",
    "if shapiro_p_value < 0.05:\n",
    "    print(\"   Since the p-value is less than 0.05, the null hypothesis of normality is rejected. The right-skewed distribution observed in the histogram supports this finding.\")\n",
    "    print(\"   Therefore, the accuracy of the variance interval calculated below is questionable and must be interpreted with caution.\")\n",
    "else:\n",
    "    print(\"   Since the p-value is greater than 0.05, the data can be assumed to be normally distributed.\")\n",
    "\n",
    "print(\"\\nResults:\")\n",
    "print(f\"The 95% confidence interval for the population variance (σ²) is:   [{variance_ci_lower:.2f}, {variance_ci_upper:.2f}]\")\n",
    "print(f\"The 95% confidence interval for the population standard deviation (σ) is: [{std_dev_ci[0]:.2f}, {std_dev_ci[1]:.2f}]\")\n",
    "print(\"\\nInterpretation:\")\n",
    "print(\"If the data were normally distributed, we would conclude with 95% confidence that the population variance\")\n",
    "print(f\"(the squared spread of GHI scores around the mean) is between {variance_ci_lower:.2f} and {variance_ci_upper:.2f}.\")\n",
    "print(\"More intuitively, the population standard deviation (the typical deviation of scores from the mean) would be estimated\")\n",
    "print(f\"to be between {std_dev_ci[0]:.2f} and {std_dev_ci[1]:.2f} with 95% confidence. However, because the normality assumption is violated, these intervals should be viewed as approximations.\")"
   ]
  },
  {
   "cell_type": "code",
   "execution_count": 23,
   "id": "2f874192-6c6f-4ca5-b766-b989952fb934",
   "metadata": {},
   "outputs": [
    {
     "name": "stdout",
     "output_type": "stream",
     "text": [
      "--- SECTION 7: SAMPLE SIZE ESTIMATION ---\n",
      "\n",
      "Objective: To determine the minimum sample size required to estimate the population mean\n",
      "with a 90% confidence level and a margin of error not exceeding 0.1 units.\n",
      "------------------------------------------------------------------------------------------------------------------------\n",
      "\n",
      "Methodology and Formula:\n",
      "The sample size (n) needed to estimate a population mean is calculated using the following formula:\n",
      "\n",
      "    n = (Z * σ / E)²\n",
      "\n",
      "Where:\n",
      "  - n: The required minimum sample size.\n",
      "  - Z: The Z-score corresponding to the desired confidence level (approx. 1.645 for 90% confidence).\n",
      "  - σ (sigma): The population standard deviation.\n",
      "  - E: The maximum allowable margin of error.\n",
      "\n",
      "Assumptions and Approach:\n",
      "1. Population Standard Deviation (σ): The true population standard deviation (σ) is typically unknown.\n",
      "   In such cases, a common practice is to use the standard deviation of the available sample (s) as an estimate for σ.\n",
      "   Therefore, the standard deviation from the `hunger_index_data` (s ≈ 13.45) will be used in the calculation.\n",
      "2. Margin of Error (E): Set to 0.1 units, as specified in the objective.\n",
      "3. Confidence Level: Set to 90%, as specified in the objective.\n",
      "\n",
      "\n",
      "Calculation Details and Result:\n",
      "--------------------------------------------------\n",
      "Confidence Level: 90.0%\n",
      "Corresponding Z-score: 1.6449\n",
      "Estimated Population Standard Deviation (σ): 13.4496\n",
      "Desired Maximum Margin of Error (E): 0.1\n",
      "\n",
      "Calculated Raw Sample Size (n): 48940.8256\n",
      "Required Minimum Sample Size (Rounded Up): 48941\n",
      "\n",
      "Interpretation:\n",
      "To estimate the true mean GHI score of the population with 90% confidence and a margin of error\n",
      "of no more than ±0.1 units, a minimum of 48941 observations (country-year data points) is required.\n"
     ]
    }
   ],
   "source": [
    "# --- SECTION 7: SAMPLE SIZE ESTIMATION ---\n",
    "print(\"--- SECTION 7: SAMPLE SIZE ESTIMATION ---\")\n",
    "\n",
    "print(\"\\nObjective: To determine the minimum sample size required to estimate the population mean\")\n",
    "print(\"with a 90% confidence level and a margin of error not exceeding 0.1 units.\")\n",
    "print(\"-\" * 120)\n",
    "\n",
    "# --- 7.1: Method Explanation ---\n",
    "print(\"\\nMethodology and Formula:\")\n",
    "print(\"The sample size (n) needed to estimate a population mean is calculated using the following formula:\")\n",
    "print(\"\\n    n = (Z * σ / E)²\\n\")\n",
    "print(\"Where:\")\n",
    "print(\"  - n: The required minimum sample size.\")\n",
    "print(\"  - Z: The Z-score corresponding to the desired confidence level (approx. 1.645 for 90% confidence).\")\n",
    "print(\"  - σ (sigma): The population standard deviation.\")\n",
    "print(\"  - E: The maximum allowable margin of error.\")\n",
    "print(\"\\nAssumptions and Approach:\")\n",
    "print(\"1. Population Standard Deviation (σ): The true population standard deviation (σ) is typically unknown.\")\n",
    "print(\"   In such cases, a common practice is to use the standard deviation of the available sample (s) as an estimate for σ.\")\n",
    "print(f\"   Therefore, the standard deviation from the `hunger_index_data` (s ≈ {hunger_index_data.std():.2f}) will be used in the calculation.\")\n",
    "print(\"2. Margin of Error (E): Set to 0.1 units, as specified in the objective.\")\n",
    "print(\"3. Confidence Level: Set to 90%, as specified in the objective.\")\n",
    "\n",
    "\n",
    "# --- 7.2: Calculation ---\n",
    "# Define the required parameters.\n",
    "confidence_level_n = 0.90\n",
    "margin_of_error = 0.1\n",
    "# The best estimate for the population standard deviation is the standard deviation from our sample.\n",
    "sigma_estimate = hunger_index_data.std()\n",
    "\n",
    "# Determine the Z-score for the given confidence level.\n",
    "# A 90% confidence level leaves 10% (alpha=0.10) in the tails, or 5% (0.05) in each tail.\n",
    "# Thus, we find the Z-score corresponding to a cumulative probability of 1 - 0.05 = 0.95.\n",
    "z_score = stats.norm.ppf(1 - (1 - confidence_level_n) / 2)\n",
    "\n",
    "# Calculate the required sample size using the formula.\n",
    "n_required = ((z_score * sigma_estimate) / margin_of_error)**2\n",
    "\n",
    "# The sample size must be an integer and should always be rounded up.\n",
    "n_required_final = np.ceil(n_required)\n",
    "\n",
    "\n",
    "# --- 7.3: Result and Interpretation ---\n",
    "print(\"\\n\\nCalculation Details and Result:\")\n",
    "print(\"-\" * 50)\n",
    "print(f\"Confidence Level: {confidence_level_n * 100}%\")\n",
    "print(f\"Corresponding Z-score: {z_score:.4f}\")\n",
    "print(f\"Estimated Population Standard Deviation (σ): {sigma_estimate:.4f}\")\n",
    "print(f\"Desired Maximum Margin of Error (E): {margin_of_error}\")\n",
    "print(f\"\\nCalculated Raw Sample Size (n): {n_required:.4f}\")\n",
    "print(f\"Required Minimum Sample Size (Rounded Up): {int(n_required_final)}\")\n",
    "print(\"\\nInterpretation:\")\n",
    "print(f\"To estimate the true mean GHI score of the population with 90% confidence and a margin of error\")\n",
    "print(f\"of no more than ±0.1 units, a minimum of {int(n_required_final)} observations (country-year data points) is required.\")"
   ]
  },
  {
   "cell_type": "code",
   "execution_count": 29,
   "id": "99c27f47-afec-4167-8944-2d3db1a9a52a",
   "metadata": {},
   "outputs": [
    {
     "name": "stdout",
     "output_type": "stream",
     "text": [
      "--- SECTION 8: HYPOTHESIS TESTING ---\n",
      "\n",
      "\n",
      "================================================================================\n",
      "Test 1: Two-Sample T-Test - Analysis of Change Between Years\n",
      "================================================================================\n",
      "\n",
      "▶ Test Scenario:\n",
      "The objective is to determine if there has been an improvement in global hunger levels over time.\n",
      "To this end, we will compare the mean GHI scores from the first year in the dataset (2000)\n",
      "with the last year (2021). Specifically, we will test if the scores in 2021 are\n",
      "significantly lower than the scores in 2000.\n",
      "----------------------------------------------------------------------------------------------------\n",
      "\n",
      "1. Stating the Hypotheses:\n",
      "   Null Hypothesis (H₀): There is no difference between the population mean GHI scores for 2000 and 2021 (μ₂₀₀₀ = μ₂₀₂₁).\n",
      "   Alternative Hypothesis (Hₐ): The population mean GHI score for 2000 is higher than that for 2021 (μ₂₀₀₀ > μ₂₀₂₁).\n",
      "\n",
      "This is a one-tailed test designed to assess whether there has been a reduction (improvement) in hunger.\n",
      "\n",
      "2. Calculating the Test Statistic:\n",
      "   Mean GHI in 2000: 24.44\n",
      "   Mean GHI in 2021: 16.79\n",
      "   Test Statistic (t-value): 4.3365\n",
      "   P-value for One-Tailed Test: 0.0000\n",
      "\n",
      "3. Decision:\n",
      "   Result: The p-value (0.0000) is significantly SMALLER than the alpha value (0.05).\n",
      "   Decision: The null hypothesis (H₀) is rejected.\n",
      "\n",
      "4. Interpretation of Results:\n",
      "The obtained p-value (approximately 0.0000) is much smaller than our significance level of 0.05.\n",
      "This provides very strong evidence to reject the null hypothesis. It implies that the difference\n",
      "between the mean GHI scores of 2000 and 2021 is too large to be attributed to random chance.\n",
      "In conclusion, the data indicates a statistically significant decrease in global hunger levels from 2000 to 2021, signifying an improvement.\n",
      "\n",
      "\n",
      "================================================================================\n",
      "Test 2: Correlation Test - Relationship Between Time and Hunger\n",
      "================================================================================\n",
      "\n",
      "▶ Test Scenario:\n",
      "The objective is to test for a systematic decrease in GHI scores as time (Year) progresses.\n",
      "If hunger is decreasing over time, we would expect a negative correlation between the 'Year' variable\n",
      "and the 'GHI Score' variable (as one increases, the other decreases). We will test the strength and significance of this relationship.\n",
      "----------------------------------------------------------------------------------------------------\n",
      "\n",
      "1. Stating the Hypotheses:\n",
      "   Null Hypothesis (H₀): There is no correlation between Year and GHI score in the population (ρ = 0).\n",
      "   Alternative Hypothesis (Hₐ): There is a correlation between Year and GHI score in the population (ρ ≠ 0).\n",
      "\n",
      "2. Calculating the Test Statistic:\n",
      "   Pearson Correlation Coefficient (r): -0.2123\n",
      "   P-value: 0.0000\n",
      "\n",
      "3. Decision:\n",
      "   Result: The p-value (0.0000) is SMALLER than the alpha value (0.05).\n",
      "   Decision: The null hypothesis (H₀) is rejected.\n",
      "\n",
      "4. Interpretation of Results:\n",
      "The correlation coefficient (r = -0.2123) indicates a weak-to-moderate negative linear relationship between Year and GHI Score.\n",
      "The very small p-value confirms that this relationship is statistically significant and not due to random chance.\n",
      "Interpretation: As time progresses (Year increases), GHI scores (hunger levels) show a statistically significant\n",
      "tendency to decrease. This result supports the finding of the previous test and provides strong evidence\n",
      "of global progress in combating hunger.\n"
     ]
    }
   ],
   "source": [
    "# --- SECTION 8: HYPOTHESIS TESTING ---\n",
    "# In this section, three different hypothesis tests are conducted to investigate \n",
    "# meaningful questions about the dataset and provide statistical answers.\n",
    "print(\"--- SECTION 8: HYPOTHESIS TESTING ---\")\n",
    "# The significance level (alpha) for all tests is set to 5%.\n",
    "alpha = 0.05 \n",
    "\n",
    "#================================================================================\n",
    "# Test 1: Independent Two-Sample T-Test\n",
    "# Objective: To test whether there has been a significant improvement in global hunger levels over time.\n",
    "#================================================================================\n",
    "print(\"\\n\\n\" + \"=\"*80)\n",
    "print(\"Test 1: Two-Sample T-Test - Analysis of Change Between Years\")\n",
    "print(\"=\"*80)\n",
    "\n",
    "print(\"\\n▶ Test Scenario:\")\n",
    "print(\"The objective is to determine if there has been an improvement in global hunger levels over time.\")\n",
    "print(\"To this end, we will compare the mean GHI scores from the first year in the dataset (2000)\")\n",
    "print(\"with the last year (2021). Specifically, we will test if the scores in 2021 are\")\n",
    "print(\"significantly lower than the scores in 2000.\")\n",
    "print(\"-\" * 100)\n",
    "\n",
    "# Data Preparation: The GHI scores for the two relevant years are isolated.\n",
    "ghi_2000 = data[data['Year'] == 2000]['Global Hunger Index (2021)']\n",
    "ghi_2021 = data[data['Year'] == 2021]['Global Hunger Index (2021)']\n",
    "\n",
    "# 1. Stating the Hypotheses\n",
    "print(\"\\n1. Stating the Hypotheses:\")\n",
    "print(\"   Null Hypothesis (H₀): There is no difference between the population mean GHI scores for 2000 and 2021 (μ₂₀₀₀ = μ₂₀₂₁).\")\n",
    "print(\"   Alternative Hypothesis (Hₐ): The population mean GHI score for 2000 is higher than that for 2021 (μ₂₀₀₀ > μ₂₀₂₁).\")\n",
    "print(\"\\nThis is a one-tailed test designed to assess whether there has been a reduction (improvement) in hunger.\")\n",
    "\n",
    "# 2. Calculating the Test Statistic\n",
    "print(\"\\n2. Calculating the Test Statistic:\")\n",
    "# The 'alternative=\"greater\"' argument tests the hypothesis that the mean of the first group (ghi_2000) is greater than the second.\n",
    "# Assuming unequal variances (Welch's T-test) is a more robust approach.\n",
    "t_statistic_1, p_value_1 = stats.ttest_ind(ghi_2000, ghi_2021, equal_var=False, nan_policy='omit', alternative='greater')\n",
    "print(f\"   Mean GHI in 2000: {ghi_2000.mean():.2f}\")\n",
    "print(f\"   Mean GHI in 2021: {ghi_2021.mean():.2f}\")\n",
    "print(f\"   Test Statistic (t-value): {t_statistic_1:.4f}\")\n",
    "print(f\"   P-value for One-Tailed Test: {p_value_1:.4f}\")\n",
    "\n",
    "# 3. Decision\n",
    "print(\"\\n3. Decision:\")\n",
    "if p_value_1 < alpha:\n",
    "    print(f\"   Result: The p-value ({p_value_1:.4f}) is significantly SMALLER than the alpha value ({alpha}).\")\n",
    "    print(\"   Decision: The null hypothesis (H₀) is rejected.\")\n",
    "else:\n",
    "    print(f\"   Result: The p-value ({p_value_1:.4f}) is LARGER than the alpha value ({alpha}).\")\n",
    "    print(\"   Decision: Fail to reject the null hypothesis (H₀).\")\n",
    "\n",
    "# 4. Interpretation of Results\n",
    "print(\"\\n4. Interpretation of Results:\")\n",
    "print(\"The obtained p-value (approximately 0.0000) is much smaller than our significance level of 0.05.\")\n",
    "print(\"This provides very strong evidence to reject the null hypothesis. It implies that the difference\")\n",
    "print(\"between the mean GHI scores of 2000 and 2021 is too large to be attributed to random chance.\")\n",
    "print(\"In conclusion, the data indicates a statistically significant decrease in global hunger levels from 2000 to 2021, signifying an improvement.\")\n",
    "\n",
    "\n",
    "#================================================================================\n",
    "# Test 2: Correlation Test (Pearson Correlation)\n",
    "# Objective: To test for a relationship between the year and the GHI score.\n",
    "#================================================================================\n",
    "print(\"\\n\\n\" + \"=\"*80)\n",
    "print(\"Test 2: Correlation Test - Relationship Between Time and Hunger\")\n",
    "print(\"=\"*80)\n",
    "\n",
    "print(\"\\n▶ Test Scenario:\")\n",
    "print(\"The objective is to test for a systematic decrease in GHI scores as time (Year) progresses.\")\n",
    "print(\"If hunger is decreasing over time, we would expect a negative correlation between the 'Year' variable\")\n",
    "print(\"and the 'GHI Score' variable (as one increases, the other decreases). We will test the strength and significance of this relationship.\")\n",
    "print(\"-\" * 100)\n",
    "\n",
    "# Data Preparation\n",
    "years_for_corr = data['Year']\n",
    "ghi_for_corr = data['Global Hunger Index (2021)']\n",
    "\n",
    "# 1. Stating the Hypotheses\n",
    "print(\"\\n1. Stating the Hypotheses:\")\n",
    "print(\"   Null Hypothesis (H₀): There is no correlation between Year and GHI score in the population (ρ = 0).\")\n",
    "print(\"   Alternative Hypothesis (Hₐ): There is a correlation between Year and GHI score in the population (ρ ≠ 0).\")\n",
    "\n",
    "# 2. Calculating the Test Statistic\n",
    "print(\"\\n2. Calculating the Test Statistic:\")\n",
    "# The Pearson correlation coefficient (r) and the p-value are calculated.\n",
    "corr_coeff, p_value_2 = stats.pearsonr(years_for_corr, ghi_for_corr)\n",
    "print(f\"   Pearson Correlation Coefficient (r): {corr_coeff:.4f}\")\n",
    "print(f\"   P-value: {p_value_2:.4f}\")\n",
    "\n",
    "# 3. Decision\n",
    "print(\"\\n3. Decision:\")\n",
    "if p_value_2 < alpha:\n",
    "    print(f\"   Result: The p-value ({p_value_2:.4f}) is SMALLER than the alpha value ({alpha}).\")\n",
    "    print(\"   Decision: The null hypothesis (H₀) is rejected.\")\n",
    "else:\n",
    "    print(f\"   Result: The p-value ({p_value_2:.4f}) is LARGER than the alpha value ({alpha}).\")\n",
    "    print(\"   Decision: Fail to reject the null hypothesis (H₀).\")\n",
    "\n",
    "# 4. Interpretation of Results\n",
    "print(\"\\n4. Interpretation of Results:\")\n",
    "print(f\"The correlation coefficient (r = {corr_coeff:.4f}) indicates a weak-to-moderate negative linear relationship between Year and GHI Score.\")\n",
    "print(\"The very small p-value confirms that this relationship is statistically significant and not due to random chance.\")\n",
    "print(\"Interpretation: As time progresses (Year increases), GHI scores (hunger levels) show a statistically significant\")\n",
    "print(\"tendency to decrease. This result supports the finding of the previous test and provides strong evidence\")\n",
    "print(\"of global progress in combating hunger.\")"
   ]
  },
  {
   "cell_type": "code",
   "execution_count": null,
   "id": "9c26f055-e4e7-40f6-99ad-a93cedaf03fb",
   "metadata": {},
   "outputs": [],
   "source": []
  }
 ],
 "metadata": {
  "kernelspec": {
   "display_name": "Python [conda env:base] *",
   "language": "python",
   "name": "conda-base-py"
  },
  "language_info": {
   "codemirror_mode": {
    "name": "ipython",
    "version": 3
   },
   "file_extension": ".py",
   "mimetype": "text/x-python",
   "name": "python",
   "nbconvert_exporter": "python",
   "pygments_lexer": "ipython3",
   "version": "3.12.2"
  }
 },
 "nbformat": 4,
 "nbformat_minor": 5
}
